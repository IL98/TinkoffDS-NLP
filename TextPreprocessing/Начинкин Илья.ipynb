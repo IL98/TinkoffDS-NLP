{
 "cells": [
  {
   "cell_type": "markdown",
   "metadata": {},
   "source": [
    "### Препроцессинг текстов."
   ]
  },
  {
   "cell_type": "code",
   "execution_count": 2,
   "metadata": {},
   "outputs": [],
   "source": [
    "from sklearn import datasets, metrics, linear_model, model_selection\n",
    "import numpy\n",
    "import re\n",
    "import nltk\n",
    "import itertools\n",
    "import time"
   ]
  },
  {
   "cell_type": "code",
   "execution_count": 3,
   "metadata": {},
   "outputs": [
    {
     "name": "stdout",
     "output_type": "stream",
     "text": [
      "Populating the interactive namespace from numpy and matplotlib\n"
     ]
    }
   ],
   "source": [
    "%pylab inline"
   ]
  },
  {
   "cell_type": "code",
   "execution_count": 4,
   "metadata": {},
   "outputs": [],
   "source": [
    "import warnings\n",
    "warnings.simplefilter(action='ignore', category=FutureWarning)"
   ]
  },
  {
   "cell_type": "markdown",
   "metadata": {},
   "source": [
    "### Задача 1"
   ]
  },
  {
   "cell_type": "code",
   "execution_count": 5,
   "metadata": {},
   "outputs": [],
   "source": [
    "# скачал датасет\n",
    "categories = ['alt.atheism', 'rec.sport.hockey',\n",
    "              'comp.graphics', 'sci.med',  'soc.religion.christian']\n",
    "removes = ('headers', 'footers', 'quotes')\n",
    "\n",
    "news_train = datasets.fetch_20newsgroups(remove=removes, categories=categories)\n",
    "news_test = datasets.fetch_20newsgroups(subset='test', remove=removes, categories=categories)"
   ]
  },
  {
   "cell_type": "code",
   "execution_count": 6,
   "metadata": {},
   "outputs": [],
   "source": [
    "#Векторизовал функцию lower, и на всей выборке применил\n",
    "\n",
    "def vectorized_lower(data):\n",
    "    return [s.lower() for s in data]"
   ]
  },
  {
   "cell_type": "code",
   "execution_count": 7,
   "metadata": {},
   "outputs": [],
   "source": [
    "#С помощью регулярных выражений заменял на пробелы. Векторизовал и применил к выборке\n",
    "alnum = '[^a-z0-9]'\n",
    "\n",
    "def vectorized_cleaning(data):\n",
    "    return np.array([re.compile(alnum).sub(r' ', x) for x in data])\n",
    "\n",
    "new_data = vectorized_cleaning(vectorized_lower(news_train.data))"
   ]
  },
  {
   "cell_type": "markdown",
   "metadata": {},
   "source": [
    "### Задача 2"
   ]
  },
  {
   "cell_type": "code",
   "execution_count": 16,
   "metadata": {},
   "outputs": [],
   "source": [
    "from sklearn.feature_extraction.text import CountVectorizer\n",
    "from sklearn.feature_extraction.text import TfidfVectorizer"
   ]
  },
  {
   "cell_type": "code",
   "execution_count": 13,
   "metadata": {},
   "outputs": [],
   "source": [
    "vectorizer = CountVectorizer()\n",
    "idf_vectorizer = TfidfVectorizer()"
   ]
  },
  {
   "cell_type": "code",
   "execution_count": 8,
   "metadata": {},
   "outputs": [],
   "source": [
    "def create_classifier(vectorizer, data):\n",
    "    \n",
    "    count_vect = vectorizer.fit_transform(data)\n",
    "    trained_data, test_data, trained_labels, test_labels = model_selection.train_test_split(\n",
    "                                    count_vect.todense(),   news_train.target, test_size=0.3, random_state=42)\n",
    "    \n",
    "    svm=linear_model.SGDClassifier()\n",
    "    svm.fit(trained_data, trained_labels)\n",
    "    predictions = svm.predict(test_data)\n",
    "    \n",
    "    print(metrics.classification_report(test_labels, predictions, \n",
    "                                                    target_names=news_train.target_names))\n",
    "    return svm"
   ]
  },
  {
   "cell_type": "code",
   "execution_count": 20,
   "metadata": {},
   "outputs": [
    {
     "name": "stdout",
     "output_type": "stream",
     "text": [
      "                        precision    recall  f1-score   support\n",
      "\n",
      "           alt.atheism       0.60      0.70      0.64       142\n",
      "         comp.graphics       0.91      0.79      0.84       183\n",
      "      rec.sport.hockey       0.84      0.90      0.87       175\n",
      "               sci.med       0.77      0.79      0.78       170\n",
      "soc.religion.christian       0.82      0.74      0.78       188\n",
      "\n",
      "           avg / total       0.80      0.79      0.79       858\n",
      "\n"
     ]
    }
   ],
   "source": [
    "cnt_svm = create_classifier(CountVectorizer(), new_data)"
   ]
  },
  {
   "cell_type": "code",
   "execution_count": 42,
   "metadata": {},
   "outputs": [
    {
     "name": "stdout",
     "output_type": "stream",
     "text": [
      "                        precision    recall  f1-score   support\n",
      "\n",
      "           alt.atheism       0.67      0.80      0.73       142\n",
      "         comp.graphics       0.98      0.78      0.87       183\n",
      "      rec.sport.hockey       0.79      0.94      0.86       175\n",
      "               sci.med       0.88      0.79      0.84       170\n",
      "soc.religion.christian       0.87      0.85      0.86       188\n",
      "\n",
      "           avg / total       0.85      0.83      0.84       858\n",
      "\n",
      "time :  11.4172\n"
     ]
    }
   ],
   "source": [
    "current = time.time()\n",
    "svm = create_classifier(idf_vectorizer, new_data)\n",
    "print(\"time : \", round(time.time() - current, 4))"
   ]
  },
  {
   "cell_type": "markdown",
   "metadata": {},
   "source": [
    "Видно, что с помощью TfidfVectorizer результаты на валидационной выборке лучше, чем с помощью CountVectorizer\n",
    "\n",
    "Теперь проверим на тестовой выборке"
   ]
  },
  {
   "cell_type": "code",
   "execution_count": 27,
   "metadata": {},
   "outputs": [],
   "source": [
    "modified_test_data = vectorized_cleaning(vectorized_lower(news_test.data))\n",
    "testing_data = idf_vectorizer.transform(modified_test_data)"
   ]
  },
  {
   "cell_type": "code",
   "execution_count": 28,
   "metadata": {},
   "outputs": [
    {
     "name": "stdout",
     "output_type": "stream",
     "text": [
      "(1901, 32681)\n"
     ]
    }
   ],
   "source": [
    "predictions = svm.predict(testing_data)\n",
    "print(testing_data.shape)"
   ]
  },
  {
   "cell_type": "code",
   "execution_count": 29,
   "metadata": {},
   "outputs": [
    {
     "name": "stdout",
     "output_type": "stream",
     "text": [
      "                        precision    recall  f1-score   support\n",
      "\n",
      "           alt.atheism       0.72      0.49      0.58       319\n",
      "         comp.graphics       0.98      0.71      0.82       389\n",
      "      rec.sport.hockey       0.98      0.86      0.91       399\n",
      "               sci.med       0.92      0.71      0.80       396\n",
      "soc.religion.christian       0.50      0.94      0.66       398\n",
      "\n",
      "           avg / total       0.82      0.75      0.76      1901\n",
      "\n"
     ]
    }
   ],
   "source": [
    "print(metrics.classification_report(news_test.target, predictions, target_names=news_train.target_names))"
   ]
  },
  {
   "cell_type": "markdown",
   "metadata": {},
   "source": [
    "Выдает ошибку на следующих примерах:"
   ]
  },
  {
   "cell_type": "code",
   "execution_count": 30,
   "metadata": {},
   "outputs": [],
   "source": [
    "\n",
    "miss_tests = modified_test_data[(predictions - news_test.target) != 0]\n",
    "miss_predict_names = predictions[(predictions - news_test.target) != 0]\n",
    "miss_truths_names = news_test.target[(predictions - news_test.target) != 0]"
   ]
  },
  {
   "cell_type": "code",
   "execution_count": 31,
   "metadata": {},
   "outputs": [
    {
     "name": "stdout",
     "output_type": "stream",
     "text": [
      " in the kind i have made i used a lite sour cream instead of yogurt   may not be as good for you  but i prefer the taste   a few small bits of cuke in addition to the grated cuke may also finish the sauce off nicely   \n",
      "---->prediction : comp.graphics\n",
      "--->truth : sci.med\n"
     ]
    }
   ],
   "source": [
    "print(modified_test_data[9])\n",
    "print(\"---->prediction : {}\".format(news_train.target_names[1])) \n",
    "print(\"--->truth : {}\".format(news_train.target_names[3]))"
   ]
  },
  {
   "cell_type": "code",
   "execution_count": 32,
   "metadata": {},
   "outputs": [
    {
     "name": "stdout",
     "output_type": "stream",
     "text": [
      "dn  i think i took on this  liar  lunatic  or the real thing  dn  the last time  or was it the time before   anyway  let dn  somebody else have a turn   i can t debate it with a dn  straight face   or perhaps for something completely dn  different we could just ridicule him or gather up all the dn  posts from the last two times we did this and email them to dn  him   as an aside  can you believe that somebody actually dn  got a book published about this   must have been a vanity dn  press   i would recomend to anyone out there to visit your local christian bookstore and become aware of the stuff they sell  quite interesting   most of the stuff is far from intelectual    about the level of chick pamphelets      if it is a common fundie bookstore  it should have at least one section about how you should hate wiccans  pagans  catholics  mormons  rock musicians  and anyone else who is not as fanatical as them    hate for the  love of god tm     it is even more interesting watching the people who frequent such places   very scary people   they hear voices from  god  telling them whatever they want to hear    if they were not christians  most of them would be locked away   maybe this is why federal money was reduced to mental institutions by the reagan administration    had to get their religious leaders out       where would christianity be if jesus got eight to fifteen years  with time off for good behavior     new york state senator james h  donovan on capitol punishment                     alan\n",
      "---->prediction : soc.religion.christian\n",
      "--->truth : alt.atheism\n"
     ]
    }
   ],
   "source": [
    "print(modified_test_data[5])\n",
    "print(\"---->prediction : {}\".format(news_train.target_names[4])) \n",
    "print(\"--->truth : {}\".format(news_train.target_names[0]))"
   ]
  },
  {
   "cell_type": "markdown",
   "metadata": {},
   "source": [
    "**При анализировании точности и полноты видно, что чаще всего построенная модель путает атеизм c христиансвом, а в остальных темах ошибается реже. Это логично, так как темы близки по смыслу**\n",
    "\n",
    "Теперь посмотрим на confusion matrix"
   ]
  },
  {
   "cell_type": "code",
   "execution_count": 46,
   "metadata": {},
   "outputs": [
    {
     "name": "stdout",
     "output_type": "stream",
     "text": [
      "4 0\n"
     ]
    }
   ],
   "source": [
    "print(predictions[5], news_test.target[5])\n",
    "#(predictions - news_test.target)[:10]"
   ]
  },
  {
   "cell_type": "code",
   "execution_count": 33,
   "metadata": {},
   "outputs": [],
   "source": [
    "def plot_confusion_matrix(cm, classes,\n",
    "                          normalize=False,\n",
    "                          title='Confusion matrix',\n",
    "                          cmap=plt.cm.Blues):\n",
    "    \"\"\"\n",
    "    This function prints and plots the confusion matrix.\n",
    "    Normalization can be applied by setting `normalize=True`.\n",
    "    \"\"\"\n",
    "    if normalize:\n",
    "        cm = cm.astype('float') / cm.sum(axis=1)[:, np.newaxis]\n",
    "        print(\"Normalized confusion matrix\")\n",
    "    else:\n",
    "        print('Confusion matrix, without normalization')\n",
    "\n",
    "    plt.imshow(cm, interpolation='nearest', cmap=cmap)\n",
    "    plt.title(title)\n",
    "    plt.colorbar()\n",
    "    tick_marks = np.arange(len(classes))\n",
    "    plt.xticks(tick_marks, classes, rotation=45)\n",
    "    plt.yticks(tick_marks, classes)\n",
    "\n",
    "    fmt = '.2f' if normalize else 'd'\n",
    "    thresh = cm.max() / 2.\n",
    "    for i, j in itertools.product(range(cm.shape[0]), range(cm.shape[1])):\n",
    "        plt.text(j, i, format(cm[i, j], fmt),\n",
    "                 horizontalalignment=\"center\",\n",
    "                 color=\"white\" if cm[i, j] > thresh else \"black\")\n",
    "\n",
    "    plt.tight_layout()\n",
    "    plt.ylabel('True label')\n",
    "    plt.xlabel('Predicted label')"
   ]
  },
  {
   "cell_type": "code",
   "execution_count": 34,
   "metadata": {},
   "outputs": [
    {
     "name": "stdout",
     "output_type": "stream",
     "text": [
      "Confusion matrix, without normalization\n"
     ]
    },
    {
     "data": {
      "image/png": "[encoded data removed]",
      "text/plain": [
       "<Figure size 432x288 with 2 Axes>"
      ]
     },
     "metadata": {},
     "output_type": "display_data"
    }
   ],
   "source": [
    "cnf_matrix = metrics.confusion_matrix(news_test.target, predictions)\n",
    "plt.figure()\n",
    "plot_confusion_matrix(cnf_matrix, classes=news_test.target_names,\n",
    "                      title='Confusion matrix, without normalization')\n",
    "plt.show()"
   ]
  },
  {
   "cell_type": "markdown",
   "metadata": {},
   "source": [
    "**Здесь тенденция того, что почти половина статей из атеизма относят к христианству, видна гораздо лучше. Кроме того, здесь видно, что медицину тоже часто ошибочно относят к христианству. Возможно это связано с общими темами (такими как \"смерть\", \"излечение\" и т.д.) . Да и вообще, у христианства очень плохой precision - то есть алгоритм значительную часть всех статей отнес к христианству. Наиболее хорошо предсказывается хоккей(f-мера = 0.92)**\n"
   ]
  },
  {
   "cell_type": "markdown",
   "metadata": {},
   "source": [
    "### Задача 3"
   ]
  },
  {
   "cell_type": "markdown",
   "metadata": {},
   "source": [
    "Посмотрим, как будет работать лемматизация и стемминг."
   ]
  },
  {
   "cell_type": "code",
   "execution_count": 23,
   "metadata": {},
   "outputs": [],
   "source": [
    "from nltk.stem.snowball import SnowballStemmer\n",
    "from nltk.stem import WordNetLemmatizer"
   ]
  },
  {
   "cell_type": "code",
   "execution_count": 24,
   "metadata": {},
   "outputs": [],
   "source": [
    "stemmer = SnowballStemmer(language='english')\n",
    "\n",
    "\n",
    "def vectorized_stemmer(data):\n",
    "    return np.array([' '.join([stemmer.stem(word) for word in text.split()]) for text in data])\n",
    "        \n",
    "stemmed_data = vectorized_stemmer(news_train.data)"
   ]
  },
  {
   "cell_type": "code",
   "execution_count": 25,
   "metadata": {},
   "outputs": [],
   "source": [
    "wordnet_lemmatizer = WordNetLemmatizer()\n",
    "\n",
    "def vectorized_lemmatizer(data):\n",
    "    new_d = list()\n",
    "    for text in data:\n",
    "        new_d.append(\" \".join([wordnet_lemmatizer.lemmatize(word) for word in text.split()]))\n",
    "    return new_d\n",
    "\n",
    "lemmed_data = vectorized_lemmatizer(news_train.data)"
   ]
  },
  {
   "cell_type": "code",
   "execution_count": 26,
   "metadata": {},
   "outputs": [],
   "source": [
    "stemm_vectorizer = TfidfVectorizer()\n",
    "lemm_vectorizer = TfidfVectorizer()"
   ]
  },
  {
   "cell_type": "code",
   "execution_count": 30,
   "metadata": {},
   "outputs": [
    {
     "name": "stdout",
     "output_type": "stream",
     "text": [
      "                        precision    recall  f1-score   support\n",
      "\n",
      "           alt.atheism       0.83      0.75      0.79       142\n",
      "         comp.graphics       0.80      0.96      0.87       183\n",
      "      rec.sport.hockey       1.00      0.86      0.93       175\n",
      "               sci.med       0.86      0.88      0.87       170\n",
      "soc.religion.christian       0.87      0.86      0.86       188\n",
      "\n",
      "           avg / total       0.87      0.86      0.86       858\n",
      "\n",
      "lematization time =  4.992\n"
     ]
    }
   ],
   "source": [
    "current = time.time()\n",
    "lemm_svm = create_classifier(lemm_vectorizer, lemmed_data)\n",
    "print('lematization time = ', round(time.time() - current, 4))"
   ]
  },
  {
   "cell_type": "code",
   "execution_count": 28,
   "metadata": {},
   "outputs": [
    {
     "name": "stdout",
     "output_type": "stream",
     "text": [
      "                        precision    recall  f1-score   support\n",
      "\n",
      "           alt.atheism       0.75      0.75      0.75       142\n",
      "         comp.graphics       0.97      0.80      0.88       183\n",
      "      rec.sport.hockey       0.67      0.98      0.80       175\n",
      "               sci.med       0.91      0.79      0.85       170\n",
      "soc.religion.christian       0.91      0.78      0.84       188\n",
      "\n",
      "           avg / total       0.85      0.83      0.83       858\n",
      "\n",
      "stemming time =  5.4407\n"
     ]
    }
   ],
   "source": [
    "current = time.time()\n",
    "stemm_svm = create_classifier(stemm_vectorizer, stemmed_data)\n",
    "print('stemming time = ', round(time.time() - current, 4))"
   ]
  },
  {
   "cell_type": "markdown",
   "metadata": {},
   "source": [
    "Здесь мы заключаем что лематизация работает немного быстрее на данном датасете, чем стемминг. \n",
    "Теперь посчитаем работу на тестовой выборке."
   ]
  },
  {
   "cell_type": "markdown",
   "metadata": {},
   "source": [
    "**На стемминге:**"
   ]
  },
  {
   "cell_type": "code",
   "execution_count": 31,
   "metadata": {},
   "outputs": [
    {
     "name": "stdout",
     "output_type": "stream",
     "text": [
      "(1901, 31133)\n"
     ]
    }
   ],
   "source": [
    "stemm_test = stemm_vectorizer.transform(vectorized_stemmer(news_test.data))\n",
    "stemm_predictions = stemm_svm.predict(stemm_test)\n",
    "print(stemm_test.shape)"
   ]
  },
  {
   "cell_type": "code",
   "execution_count": 44,
   "metadata": {},
   "outputs": [
    {
     "name": "stdout",
     "output_type": "stream",
     "text": [
      "---------Stemming-------\n",
      "                        precision    recall  f1-score   support\n",
      "\n",
      "           alt.atheism       0.69      0.68      0.68       319\n",
      "         comp.graphics       0.79      0.93      0.85       389\n",
      "      rec.sport.hockey       0.92      0.90      0.91       399\n",
      "               sci.med       0.90      0.76      0.82       396\n",
      "soc.religion.christian       0.79      0.80      0.80       398\n",
      "\n",
      "           avg / total       0.82      0.82      0.82      1901\n",
      "\n"
     ]
    }
   ],
   "source": [
    "print('---------Stemming-------')\n",
    "print(metrics.classification_report(news_test.target, stemm_predictions, target_names=news_train.target_names))"
   ]
  },
  {
   "cell_type": "markdown",
   "metadata": {},
   "source": [
    "**На лематизации**"
   ]
  },
  {
   "cell_type": "code",
   "execution_count": 32,
   "metadata": {},
   "outputs": [
    {
     "name": "stdout",
     "output_type": "stream",
     "text": [
      "(1901, 32721)\n"
     ]
    }
   ],
   "source": [
    "lemm_test = lemm_vectorizer.transform(vectorized_lemmatizer(news_test.data))\n",
    "lemm_predictions = lemm_svm.predict(lemm_test)\n",
    "print(lemm_test.shape)"
   ]
  },
  {
   "cell_type": "code",
   "execution_count": 33,
   "metadata": {},
   "outputs": [
    {
     "name": "stdout",
     "output_type": "stream",
     "text": [
      "---------Lematization-------\n",
      "                        precision    recall  f1-score   support\n",
      "\n",
      "           alt.atheism       0.74      0.62      0.67       319\n",
      "         comp.graphics       0.77      0.93      0.85       389\n",
      "      rec.sport.hockey       0.99      0.85      0.92       399\n",
      "               sci.med       0.84      0.82      0.83       396\n",
      "soc.religion.christian       0.75      0.82      0.79       398\n",
      "\n",
      "           avg / total       0.82      0.82      0.82      1901\n",
      "\n"
     ]
    }
   ],
   "source": [
    "print('---------Lematization-------')\n",
    "print(metrics.classification_report(news_test.target, lemm_predictions, target_names=news_train.target_names))"
   ]
  },
  {
   "cell_type": "markdown",
   "metadata": {},
   "source": [
    "**Здесь мы видим, что при нормализации результаты получаются лучше чем раньше. Также при нормализации обучение происходит быстрее чем в использованном ранее. Но вместе с тем особой разницы в качестве между stemming и lemmatization не наблюдается. Стемминг сократил признаковое пространство примерно на 1000, а лематизация, наоборот, увеличила на сотню. Кроме того, решилась проблема атеизма, его полнота стала гораздо выше, то есть его меньше стали относить к чему то другому. А также повысился precision христианста, то есть, к нему стали меньше относить другие темы. **"
   ]
  },
  {
   "cell_type": "markdown",
   "metadata": {},
   "source": [
    "### Задача 4\n",
    "\n",
    "Теперь попробуем удалять некоторые слова для повышения качества модели и скоращения времени обучения"
   ]
  },
  {
   "cell_type": "markdown",
   "metadata": {},
   "source": [
    "Сначала будем удалять стоп слова:"
   ]
  },
  {
   "cell_type": "code",
   "execution_count": 10,
   "metadata": {},
   "outputs": [],
   "source": [
    "from nltk.corpus import stopwords"
   ]
  },
  {
   "cell_type": "code",
   "execution_count": 11,
   "metadata": {
    "scrolled": true
   },
   "outputs": [
    {
     "data": {
      "text/plain": [
       "['i',\n",
       " 'me',\n",
       " 'my',\n",
       " 'myself',\n",
       " 'we',\n",
       " 'our',\n",
       " 'ours',\n",
       " 'ourselves',\n",
       " 'you',\n",
       " \"you're\",\n",
       " \"you've\",\n",
       " \"you'll\",\n",
       " \"you'd\",\n",
       " 'your',\n",
       " 'yours',\n",
       " 'yourself',\n",
       " 'yourselves',\n",
       " 'he',\n",
       " 'him',\n",
       " 'his',\n",
       " 'himself',\n",
       " 'she',\n",
       " \"she's\",\n",
       " 'her',\n",
       " 'hers',\n",
       " 'herself',\n",
       " 'it',\n",
       " \"it's\",\n",
       " 'its',\n",
       " 'itself',\n",
       " 'they',\n",
       " 'them',\n",
       " 'their',\n",
       " 'theirs',\n",
       " 'themselves',\n",
       " 'what',\n",
       " 'which',\n",
       " 'who',\n",
       " 'whom',\n",
       " 'this',\n",
       " 'that',\n",
       " \"that'll\",\n",
       " 'these',\n",
       " 'those',\n",
       " 'am',\n",
       " 'is',\n",
       " 'are',\n",
       " 'was',\n",
       " 'were',\n",
       " 'be',\n",
       " 'been',\n",
       " 'being',\n",
       " 'have',\n",
       " 'has',\n",
       " 'had',\n",
       " 'having',\n",
       " 'do',\n",
       " 'does',\n",
       " 'did',\n",
       " 'doing',\n",
       " 'a',\n",
       " 'an',\n",
       " 'the',\n",
       " 'and',\n",
       " 'but',\n",
       " 'if',\n",
       " 'or',\n",
       " 'because',\n",
       " 'as',\n",
       " 'until',\n",
       " 'while',\n",
       " 'of',\n",
       " 'at',\n",
       " 'by',\n",
       " 'for',\n",
       " 'with',\n",
       " 'about',\n",
       " 'against',\n",
       " 'between',\n",
       " 'into',\n",
       " 'through',\n",
       " 'during',\n",
       " 'before',\n",
       " 'after',\n",
       " 'above',\n",
       " 'below',\n",
       " 'to',\n",
       " 'from',\n",
       " 'up',\n",
       " 'down',\n",
       " 'in',\n",
       " 'out',\n",
       " 'on',\n",
       " 'off',\n",
       " 'over',\n",
       " 'under',\n",
       " 'again',\n",
       " 'further',\n",
       " 'then',\n",
       " 'once',\n",
       " 'here',\n",
       " 'there',\n",
       " 'when',\n",
       " 'where',\n",
       " 'why',\n",
       " 'how',\n",
       " 'all',\n",
       " 'any',\n",
       " 'both',\n",
       " 'each',\n",
       " 'few',\n",
       " 'more',\n",
       " 'most',\n",
       " 'other',\n",
       " 'some',\n",
       " 'such',\n",
       " 'no',\n",
       " 'nor',\n",
       " 'not',\n",
       " 'only',\n",
       " 'own',\n",
       " 'same',\n",
       " 'so',\n",
       " 'than',\n",
       " 'too',\n",
       " 'very',\n",
       " 's',\n",
       " 't',\n",
       " 'can',\n",
       " 'will',\n",
       " 'just',\n",
       " 'don',\n",
       " \"don't\",\n",
       " 'should',\n",
       " \"should've\",\n",
       " 'now',\n",
       " 'd',\n",
       " 'll',\n",
       " 'm',\n",
       " 'o',\n",
       " 're',\n",
       " 've',\n",
       " 'y',\n",
       " 'ain',\n",
       " 'aren',\n",
       " \"aren't\",\n",
       " 'couldn',\n",
       " \"couldn't\",\n",
       " 'didn',\n",
       " \"didn't\",\n",
       " 'doesn',\n",
       " \"doesn't\",\n",
       " 'hadn',\n",
       " \"hadn't\",\n",
       " 'hasn',\n",
       " \"hasn't\",\n",
       " 'haven',\n",
       " \"haven't\",\n",
       " 'isn',\n",
       " \"isn't\",\n",
       " 'ma',\n",
       " 'mightn',\n",
       " \"mightn't\",\n",
       " 'mustn',\n",
       " \"mustn't\",\n",
       " 'needn',\n",
       " \"needn't\",\n",
       " 'shan',\n",
       " \"shan't\",\n",
       " 'shouldn',\n",
       " \"shouldn't\",\n",
       " 'wasn',\n",
       " \"wasn't\",\n",
       " 'weren',\n",
       " \"weren't\",\n",
       " 'won',\n",
       " \"won't\",\n",
       " 'wouldn',\n",
       " \"wouldn't\"]"
      ]
     },
     "execution_count": 11,
     "metadata": {},
     "output_type": "execute_result"
    }
   ],
   "source": [
    "stopwords.words('english')"
   ]
  },
  {
   "cell_type": "code",
   "execution_count": 34,
   "metadata": {},
   "outputs": [],
   "source": [
    "sw_en = stopwords.words('english')\n",
    "\n",
    "def vectorized_cleaning(data):\n",
    "    result = list()\n",
    "    for text in data:\n",
    "        result.append(' '.join([word for word in text.split() if not word in sw_en]))\n",
    "    return result    "
   ]
  },
  {
   "cell_type": "code",
   "execution_count": 35,
   "metadata": {},
   "outputs": [],
   "source": [
    "cleaning_data = vectorized_cleaning(vectorized_lemmatizer(news_train.data))"
   ]
  },
  {
   "cell_type": "code",
   "execution_count": 36,
   "metadata": {},
   "outputs": [],
   "source": [
    "cleaning_vectorizor = TfidfVectorizer()"
   ]
  },
  {
   "cell_type": "code",
   "execution_count": 37,
   "metadata": {},
   "outputs": [
    {
     "name": "stdout",
     "output_type": "stream",
     "text": [
      "                        precision    recall  f1-score   support\n",
      "\n",
      "           alt.atheism       0.77      0.79      0.78       142\n",
      "         comp.graphics       0.75      0.99      0.86       183\n",
      "      rec.sport.hockey       0.98      0.89      0.93       175\n",
      "               sci.med       0.97      0.78      0.87       170\n",
      "soc.religion.christian       0.90      0.84      0.87       188\n",
      "\n",
      "           avg / total       0.88      0.86      0.86       858\n",
      "\n"
     ]
    }
   ],
   "source": [
    "clean_svm = create_classifier(cleaning_vectorizor, cleaning_data)"
   ]
  },
  {
   "cell_type": "code",
   "execution_count": 38,
   "metadata": {},
   "outputs": [
    {
     "name": "stdout",
     "output_type": "stream",
     "text": [
      "---------Cleaning Stopwords-------\n",
      "                        precision    recall  f1-score   support\n",
      "\n",
      "           alt.atheism       0.66      0.66      0.66       319\n",
      "         comp.graphics       0.69      0.95      0.80       389\n",
      "      rec.sport.hockey       0.98      0.87      0.92       399\n",
      "               sci.med       0.94      0.71      0.81       396\n",
      "soc.religion.christian       0.78      0.77      0.77       398\n",
      "\n",
      "           avg / total       0.82      0.80      0.80      1901\n",
      "\n",
      "time :  225.15612721443176\n"
     ]
    }
   ],
   "source": [
    "сurrent = time.time()\n",
    "\n",
    "clean_test = vectorized_cleaning(vectorized_lemmatizer(news_test.data))\n",
    "\n",
    "clean_predictions = clean_svm.predict(cleaning_vectorizor.transform(clean_test))\n",
    "print('---------Cleaning Stopwords-------')\n",
    "print(metrics.classification_report(news_test.target, clean_predictions, target_names=news_train.target_names))\n",
    "\n",
    "print(\"time : \", time.time() - current )"
   ]
  },
  {
   "cell_type": "markdown",
   "metadata": {},
   "source": [
    "**Время работы алгоритма стало существенно меньше, и качество осталось примерно тем же**"
   ]
  },
  {
   "cell_type": "markdown",
   "metadata": {},
   "source": [
    "**Теперь удалим самые частые , а затем редкие слова и проверим:**"
   ]
  },
  {
   "cell_type": "code",
   "execution_count": 39,
   "metadata": {},
   "outputs": [],
   "source": [
    "often_idf_vec = TfidfVectorizer()\n",
    "\n",
    "often_data = vectorized_lemmatizer(news_train.data)"
   ]
  },
  {
   "cell_type": "code",
   "execution_count": 40,
   "metadata": {},
   "outputs": [
    {
     "data": {
      "text/plain": [
       "(2857, 32721)"
      ]
     },
     "execution_count": 40,
     "metadata": {},
     "output_type": "execute_result"
    }
   ],
   "source": [
    "train_matrix = often_idf_vec.fit_transform(often_data)\n",
    "train_matrix.shape"
   ]
  },
  {
   "cell_type": "code",
   "execution_count": 43,
   "metadata": {},
   "outputs": [],
   "source": [
    "# получает сортированный список слов по частоте(в прямом или обратном порядке)\n",
    "def get_freq_words(train_matrix, is_often=True):\n",
    "    sum_words = train_matrix.sum(axis=0)\n",
    "    words_freq = [(word, int(sum_words[0, idx]), int(idx)) for word, idx in often_idf_vec.vocabulary_.items()]\n",
    "    \n",
    "    return np.array(sorted(words_freq, key = lambda x: x[1], reverse=is_often))"
   ]
  },
  {
   "cell_type": "code",
   "execution_count": 44,
   "metadata": {},
   "outputs": [],
   "source": [
    "count_train_matrix = CountVectorizer().fit_transform(often_data)\n",
    "\n",
    "words_often = get_freq_words(count_train_matrix, is_often=True)\n",
    "\n",
    "words_rare = get_freq_words(count_train_matrix, is_often=False)"
   ]
  },
  {
   "cell_type": "code",
   "execution_count": 46,
   "metadata": {},
   "outputs": [],
   "source": [
    "#модифицирует матрицу векторов документов, путем выкидывания оттуда данных слов words[:index]\n",
    "def modify_matrix(matrix, words, index):\n",
    "    mask = np.logical_not(np.isin(np.arange(matrix.shape[1]), words[:index, 2]))\n",
    "    return matrix[:,  mask]\n"
   ]
  },
  {
   "cell_type": "code",
   "execution_count": 116,
   "metadata": {},
   "outputs": [],
   "source": [
    "#получаю матрицу без 50 самых частых слов\n",
    "often_matrix = modify_matrix(train_matrix, words_often, 100)"
   ]
  },
  {
   "cell_type": "code",
   "execution_count": 48,
   "metadata": {},
   "outputs": [],
   "source": [
    "#получаю матрицу без 20000 самых редких слов\n",
    "rare_matrix = modify_matrix(train_matrix, words_rare, 20000)"
   ]
  },
  {
   "cell_type": "code",
   "execution_count": 106,
   "metadata": {},
   "outputs": [],
   "source": [
    "def matrix_create_classifier(matrix):\n",
    "    \n",
    "    trained_data, test_data, trained_labels, test_labels = model_selection.train_test_split(\n",
    "                                    matrix,   news_train.target, test_size=0.3, random_state=42)\n",
    "    \n",
    "    svm=linear_model.SGDClassifier()\n",
    "    svm.fit(trained_data, trained_labels)\n",
    "    predictions = svm.predict(test_data)\n",
    "    \n",
    "    print(metrics.classification_report(test_labels, predictions, \n",
    "                                                    target_names=news_train.target_names))\n",
    "    return svm"
   ]
  },
  {
   "cell_type": "code",
   "execution_count": 58,
   "metadata": {},
   "outputs": [
    {
     "name": "stdout",
     "output_type": "stream",
     "text": [
      "                        precision    recall  f1-score   support\n",
      "\n",
      "           alt.atheism       0.78      0.77      0.77       142\n",
      "         comp.graphics       0.92      0.89      0.90       183\n",
      "      rec.sport.hockey       0.81      0.94      0.87       175\n",
      "               sci.med       0.88      0.83      0.85       170\n",
      "soc.religion.christian       0.89      0.83      0.86       188\n",
      "\n",
      "           avg / total       0.86      0.86      0.86       858\n",
      "\n"
     ]
    }
   ],
   "source": [
    "rare_svm = matrix_create_classifier(rare_matrix)"
   ]
  },
  {
   "cell_type": "code",
   "execution_count": 117,
   "metadata": {},
   "outputs": [
    {
     "name": "stdout",
     "output_type": "stream",
     "text": [
      "                        precision    recall  f1-score   support\n",
      "\n",
      "           alt.atheism       0.80      0.71      0.75       142\n",
      "         comp.graphics       0.95      0.87      0.91       183\n",
      "      rec.sport.hockey       0.93      0.92      0.93       175\n",
      "               sci.med       0.81      0.93      0.87       170\n",
      "soc.religion.christian       0.84      0.87      0.85       188\n",
      "\n",
      "           avg / total       0.87      0.87      0.87       858\n",
      "\n"
     ]
    }
   ],
   "source": [
    "often_svm = matrix_create_classifier(often_matrix)"
   ]
  },
  {
   "cell_type": "markdown",
   "metadata": {},
   "source": [
    "Проверим на тестовой выборке:"
   ]
  },
  {
   "cell_type": "code",
   "execution_count": 118,
   "metadata": {},
   "outputs": [
    {
     "name": "stdout",
     "output_type": "stream",
     "text": [
      "(1901, 32621)\n",
      "                        precision    recall  f1-score   support\n",
      "\n",
      "           alt.atheism       0.72      0.55      0.62       319\n",
      "         comp.graphics       0.88      0.87      0.87       389\n",
      "      rec.sport.hockey       0.89      0.88      0.89       399\n",
      "               sci.med       0.77      0.80      0.78       396\n",
      "soc.religion.christian       0.69      0.80      0.74       398\n",
      "\n",
      "           avg / total       0.79      0.79      0.79      1901\n",
      "\n",
      "time :  7.039477348327637\n"
     ]
    }
   ],
   "source": [
    "#наиболее частые:\n",
    "current = time.time()\n",
    "test_matrix = often_idf_vec.transform(vectorized_stemmer(news_test.data))\n",
    "test_often_matrix =  modify_matrix(test_matrix, words_often, 100)\n",
    "\n",
    "print(test_often_matrix.shape)\n",
    "\n",
    "often_predictions = often_svm.predict(test_often_matrix)\n",
    "\n",
    "print(metrics.classification_report(news_test.target, often_predictions, \n",
    "                                                      target_names=news_test.target_names))\n",
    "print(\"time : \", time.time() - current )"
   ]
  },
  {
   "cell_type": "code",
   "execution_count": 437,
   "metadata": {},
   "outputs": [
    {
     "name": "stdout",
     "output_type": "stream",
     "text": [
      "(1901, 11133)\n",
      "                        precision    recall  f1-score   support\n",
      "\n",
      "           alt.atheism       0.69      0.64      0.67       319\n",
      "         comp.graphics       0.78      0.92      0.84       389\n",
      "      rec.sport.hockey       0.93      0.89      0.91       399\n",
      "               sci.med       0.88      0.76      0.82       396\n",
      "soc.religion.christian       0.74      0.78      0.76       398\n",
      "\n",
      "           avg / total       0.81      0.81      0.80      1901\n",
      "\n",
      "time :  0.11762666702270508\n"
     ]
    }
   ],
   "source": [
    "#наиболее редкие:\n",
    "current = time.time()\n",
    "test_rare_matrix =  modify_matrix(test_matrix, words_rare, 20000)\n",
    "\n",
    "print(test_rare_matrix.shape)\n",
    "\n",
    "rare_predictions = rare_svm.predict(test_rare_matrix)\n",
    "\n",
    "print(metrics.classification_report(news_test.target, rare_predictions, \n",
    "                                                      target_names=news_test.target_names))\n",
    "print(\"time : \", time.time() - current )"
   ]
  },
  {
   "cell_type": "markdown",
   "metadata": {},
   "source": [
    "**В моем примере я убирал 100 самых частых слов. При этом качество немного упало. Возможно, это связано с тем что некоторые часто встречающиеся слова это какие то специальные слова, которые присущи только конкретным темам, которые мы рассматривали. А самых редких можно убрать слов почти на 2 третьих от общего объема без потери качества(скорее всего это связано с тем, что много слов, содержащихся в единственном экземпляре)**\n",
    "\n",
    "**А вот время существенно сократилось(на несколько секунд)**"
   ]
  },
  {
   "cell_type": "code",
   "execution_count": null,
   "metadata": {},
   "outputs": [],
   "source": []
  }
 ],
 "metadata": {
  "kernelspec": {
   "display_name": "Python 3",
   "language": "python",
   "name": "python3"
  },
  "language_info": {
   "codemirror_mode": {
    "name": "ipython",
    "version": 3
   },
   "file_extension": ".py",
   "mimetype": "text/x-python",
   "name": "python",
   "nbconvert_exporter": "python",
   "pygments_lexer": "ipython3",
   "version": "3.6.8"
  }
 },
 "nbformat": 4,
 "nbformat_minor": 2
}
